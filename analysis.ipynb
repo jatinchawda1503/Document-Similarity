{
 "cells": [
  {
   "cell_type": "code",
   "execution_count": 96,
   "id": "43a86058-cae0-4339-8709-3724ee284c17",
   "metadata": {},
   "outputs": [],
   "source": [
    "import pandas as pd\n",
    "import re\n",
    "import nltk\n",
    "from nltk.corpus import stopwords\n",
    "from nltk.tokenize import word_tokenize\n",
    "from nltk.stem import LancasterStemmer"
   ]
  },
  {
   "cell_type": "code",
   "execution_count": 67,
   "id": "616f3630-329c-4f5b-9c9e-ef2f188dae92",
   "metadata": {},
   "outputs": [],
   "source": [
    "data = pd.read_csv(\"../nlp/final/data/arxiv_data.csv\")\n",
    "summaries = data['summaries']"
   ]
  },
  {
   "cell_type": "code",
   "execution_count": 97,
   "id": "d6283bb2-40f4-4af2-b1d5-b32940f53c95",
   "metadata": {},
   "outputs": [
    {
     "name": "stderr",
     "output_type": "stream",
     "text": [
      "[nltk_data] Downloading package punkt to\n",
      "[nltk_data]     C:\\Users\\jatin\\AppData\\Roaming\\nltk_data...\n",
      "[nltk_data]   Package punkt is already up-to-date!\n",
      "[nltk_data] Downloading package stopwords to\n",
      "[nltk_data]     C:\\Users\\jatin\\AppData\\Roaming\\nltk_data...\n",
      "[nltk_data]   Package stopwords is already up-to-date!\n"
     ]
    }
   ],
   "source": [
    "nltk.download ('punkt')\n",
    "nltk.download ('stopwords')\n",
    "lancaster = LancasterStemmer()"
   ]
  },
  {
   "cell_type": "code",
   "execution_count": 98,
   "id": "1c606e5c-c099-4501-b787-6cd076736014",
   "metadata": {},
   "outputs": [],
   "source": [
    "en_stops = set(stopwords.words ('english'))"
   ]
  },
  {
   "cell_type": "code",
   "execution_count": 100,
   "id": "c7006d51-b0ce-44ed-9636-0eb2d96af38a",
   "metadata": {},
   "outputs": [],
   "source": [
    "data['summaries']=data['summaries'].replace('[^\\w\\s]','',regex=True)"
   ]
  },
  {
   "cell_type": "code",
   "execution_count": 103,
   "id": "50b605c6-9246-46f1-a86e-8493482cb4ca",
   "metadata": {},
   "outputs": [],
   "source": [
    "data['summaries'] = data['summaries'].str.lower()"
   ]
  },
  {
   "cell_type": "code",
   "execution_count": 108,
   "id": "51dee64e-5ce8-493c-b873-b98a6d59a09b",
   "metadata": {},
   "outputs": [],
   "source": [
    "data['tokenized_text'] = data['summaries'].apply(word_tokenize)"
   ]
  },
  {
   "cell_type": "code",
   "execution_count": 114,
   "id": "4ac91aa9-8368-4972-82b5-c608e3729b07",
   "metadata": {},
   "outputs": [],
   "source": [
    "data['removed_stopped_words']=data['tokenized_text'].apply(lambda x: [item for item in x if item not in en_stops])"
   ]
  },
  {
   "cell_type": "code",
   "execution_count": 117,
   "id": "75312aec-99e1-4e1a-80d3-22e63e389faf",
   "metadata": {},
   "outputs": [],
   "source": [
    "data['stemmed'] = data['removed_stopped_words'].apply(lambda x: [lancaster.stem(y) for y in x])"
   ]
  },
  {
   "cell_type": "code",
   "execution_count": 118,
   "id": "78e9bf4a-8b3d-410f-821b-e01d63cdde17",
   "metadata": {},
   "outputs": [
    {
     "data": {
      "text/plain": [
       "0        [stereo, match, on, wid, us, techn, infer, dep...\n",
       "1        [rec, adv, art, intellig, ai, combin, extend, ...\n",
       "2        [pap, propos, novel, mut, consist, network, mc...\n",
       "3        [consist, train, prov, adv, semisuperv, framew...\n",
       "4        [ens, saf, autom, driv, correct, perceiv, situ...\n",
       "                               ...                        \n",
       "51769    [address, problem, analys, set, noisy, timev, ...\n",
       "51770    [discuss, method, track, individ, molec, glob,...\n",
       "51771    [attempt, set, mathem, found, immunolog, amino...\n",
       "51772    [diffus, tens, im, dti, allow, estim, posit, o...\n",
       "51773    [mass, spectrometry, ms, import, techn, chem, ...\n",
       "Name: stemmed, Length: 51774, dtype: object"
      ]
     },
     "execution_count": 118,
     "metadata": {},
     "output_type": "execute_result"
    }
   ],
   "source": [
    "data['stemmed']"
   ]
  }
 ],
 "metadata": {
  "kernelspec": {
   "display_name": "Python 3 (ipykernel)",
   "language": "python",
   "name": "python3"
  },
  "language_info": {
   "codemirror_mode": {
    "name": "ipython",
    "version": 3
   },
   "file_extension": ".py",
   "mimetype": "text/x-python",
   "name": "python",
   "nbconvert_exporter": "python",
   "pygments_lexer": "ipython3",
   "version": "3.9.7"
  }
 },
 "nbformat": 4,
 "nbformat_minor": 5
}
