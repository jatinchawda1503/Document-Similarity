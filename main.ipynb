{
 "cells": [
  {
   "cell_type": "code",
   "execution_count": 203,
   "id": "ba137d8c-8329-4060-ae89-61b655418752",
   "metadata": {},
   "outputs": [],
   "source": [
    "import pandas as pd\n",
    "import re\n",
    "import nltk\n",
    "from nltk.corpus import stopwords\n",
    "from nltk.tokenize import word_tokenize\n",
    "from nltk.stem import LancasterStemmer\n",
    "from sklearn.feature_extraction.text import CountVectorizer\n",
    "from sklearn.metrics.pairwise import cosine_similarity\n",
    "import os\n",
    "cwd = os.getcwd()"
   ]
  },
  {
   "cell_type": "code",
   "execution_count": 25,
   "id": "f68a18a3-7ed0-4459-8633-e8ef3b02c696",
   "metadata": {},
   "outputs": [],
   "source": [
    "txt1 = cwd +\"/data/txt1.txt\"\n",
    "txt2 = cwd +\"/data/txt2.txt\""
   ]
  },
  {
   "cell_type": "code",
   "execution_count": 80,
   "id": "6642ccef-fd4a-443c-bcca-3e3956d45135",
   "metadata": {},
   "outputs": [],
   "source": [
    "def read_lines(path_to_file):\n",
    "    #data = []\n",
    "    with open(path_to_file,'r',encoding=\"utf-8\") as f:\n",
    "        contents = f.readlines()\n",
    "        #data.append(contents)\n",
    "        f.close()\n",
    "        return contents"
   ]
  },
  {
   "cell_type": "code",
   "execution_count": 81,
   "id": "0241f7ab-a463-4143-81b8-fa1d3f646e7b",
   "metadata": {},
   "outputs": [],
   "source": [
    "doc1 = read_lines(txt1)\n",
    "doc2 = read_lines(txt2)"
   ]
  },
  {
   "cell_type": "code",
   "execution_count": 82,
   "id": "0f29acb1-c094-4c64-a83f-f220df9203f6",
   "metadata": {},
   "outputs": [
    {
     "data": {
      "text/plain": [
       "['GitHub Copilot works so well because it steals open-source code and strips credit\\n',\n",
       " 'The Software Freedom Conservancy (SFC), a non-profit community of open-source advocates, today announced its withdrawal from GitHub in a scathing blog post urging members and supporters to rebuke the platform once-and-for-all.\\n',\n",
       " 'Up front: The SFC’s problem with GitHub stems from accusations that Microsoft and OpenAI trained an AI system called Copilot on data that was published under an open-source license.\\n',\n",
       " 'Open-source code isn’t like a donations box where you can just take whatever you want and use it in any way you choose.\\n',\n",
       " 'Greetings, humanoidsSubscribe to our newsletter now for a weekly recap of our favorite AI stories in your inbox.Your email address*I agree to allow TNW to store and process my personal data*It’s more like photography. Just because a photographer doesn’t charge you to use one of their images, you’re still ethically and legally required to give credit where it’s due.\\n',\n",
       " 'According to a blog post on the SFC site, Copilot doesn’t do that when it comes to using other people’s code snippets:\\n',\n",
       " 'This harkens to long-standing problems with GitHub, and the central reason why we must together give up on GitHub. We’ve seen with Copilot, with GitHub’s core hosting service, and in nearly every area of endeavor, GitHub’s behavior is substantially worse than that of their peers. We don’t believe Amazon, Atlassian, GitLab, or any other for-profit hoster are perfect actors. However, a relative comparison of GitHub’s behavior to those of its peers shows that GitHub’s behavior is much worse.\\n',\n",
       " 'Background: GitHub is the defacto repository for open-source code in the world. It’s like a combination of YouTube, Twitter, and Reddit, but for programmers and the codes they produce.\\n',\n",
       " 'Sure, there’s other options. But switching from one code-repository ecosystem to another isn’t the same as trading Instagram for TikTok.\\n',\n",
       " 'Microsoft acquired GitHub in 2018 for more than seven billion dollars.\\n',\n",
       " 'In the time since, Microsoft’s leveraged its position as OpenAI’s primary benefactor in a joint endeavor to build Copilot.\\n',\n",
       " 'And the only way to get access to Copilot is through a special invitation from Microsoft or paid subscription.\\n',\n",
       " 'The SFC and other open-source advocates are upset because Microsoft and OpenAI are essentially monetizing other people’s code and stripping away the ability for those who use that code to give proper credit.\\n',\n",
       " 'In other words: Microsoft is taking people’s work, stripping credit, and selling it to others via algorithms.\\n',\n",
       " 'A solution: Kill Copilot. Alternately, Microsoft and OpenAI could build a time machine, go back in time, and label every single datapoint in Copilot’s database so that a second model could be built that would apply proper credit to every output.\\n',\n",
       " 'But it’s always easier to exploit the Wild West do-whatever-you-want regulatory environment and take advantage of people than it is to care about the ethics of the products and services you offer.\\n',\n",
       " 'Neural’s take: When it comes to solid examples of AI that makes human lives easier, GitHub’s Copilot tops the list. It takes some of the tedious things that can take developers hours of work and makes them as easy as pushing a button or typing a few lines of text.\\n',\n",
       " 'And there’s a bit of precedent here. GPT-3 and Dall-E use databases of human-generated media to generate novel outputs.\\n',\n",
       " 'But there’s a key difference between those generators and Copilot. Drawing a duck in the style of Monet or asking GPT-3 to tell you a story about a happy dog are one thing.\\n',\n",
       " 'Regurgitating code snippets line-by-line from files in a database isn’t coding in the style of someone else, it’s using someone else’s code.\\n',\n",
       " 'It’s probably a bit more nuanced than that. There is, of course, sometimes more than one way to solve a coding problem. And coding is often as much art as it is science.\\n',\n",
       " 'But, just because you can take a picture of the setting sun with your iPhone doesn’t mean you can steal someone else’s sunset photograph, call it your own, and sell it to other people.\\n',\n",
       " 'At the end of the day it doesn’t matter. Copilot is a hit. The dev community seems to absolutely love it. It’s gotten more positive press than any amount of naysaying is likely to affect.\\n',\n",
       " 'Never mind what it’ll eventually do to the open source community. Who needs open source repositories when you can just work for free to make money for Microsoft?\\n',\n",
       " 'The best thing is, you don’t get a choice. There’s no opting in or out. Microsoft and OpenAI have your data and there’s nothing stopping them from doing whatever they want with it. Resistance is futile.\\n']"
      ]
     },
     "execution_count": 82,
     "metadata": {},
     "output_type": "execute_result"
    }
   ],
   "source": [
    "doc1"
   ]
  },
  {
   "cell_type": "code",
   "execution_count": 57,
   "id": "298d1ea2-983d-4d87-a7a9-b5f794bdd395",
   "metadata": {},
   "outputs": [
    {
     "name": "stderr",
     "output_type": "stream",
     "text": [
      "[nltk_data] Downloading package punkt to\n",
      "[nltk_data]     C:\\Users\\jatin\\AppData\\Roaming\\nltk_data...\n",
      "[nltk_data]   Package punkt is already up-to-date!\n",
      "[nltk_data] Downloading package stopwords to\n",
      "[nltk_data]     C:\\Users\\jatin\\AppData\\Roaming\\nltk_data...\n",
      "[nltk_data]   Package stopwords is already up-to-date!\n"
     ]
    }
   ],
   "source": [
    "nltk.download ('punkt')\n",
    "nltk.download ('stopwords')\n",
    "lancaster = LancasterStemmer()"
   ]
  },
  {
   "cell_type": "code",
   "execution_count": 161,
   "id": "868b4610-9b48-4f68-bcdf-85739119ad82",
   "metadata": {},
   "outputs": [],
   "source": [
    "def pre_process(file):\n",
    "    en_stops = set(stopwords.words('english'))\n",
    "    processed_sentences = []\n",
    "    for line in file:\n",
    "        lines = line.strip()\n",
    "        sentence = re.sub (r'[^\\w\\s]','', lines)\n",
    "        lower_sen = sentence.lower()\n",
    "        token_sen = word_tokenize(lower_sen)\n",
    "        new_sentence = []\n",
    "        for word in token_sen:\n",
    "            if word not in en_stops and word.isnumeric() == False: \n",
    "                word = lancaster.stem(word) \n",
    "                new_sentence.append(word)\n",
    "        \n",
    "        if len (new_sentence) > 3 :\n",
    "            processed_sentences.append (new_sentence)\n",
    "    return processed_sentences"
   ]
  },
  {
   "cell_type": "code",
   "execution_count": 197,
   "id": "57517615-2219-4c36-a9a2-02d155c56bce",
   "metadata": {},
   "outputs": [],
   "source": [
    "def doc_to_df(doc):\n",
    "    document_df = []\n",
    "    # for i, document in enumerate (pre_process(doc1)) :\n",
    "    for sentence in pre_process(doc) :\n",
    "        sen = \" \".join (sentence)\n",
    "        document_df.append([sen])\n",
    "        data = pd.DataFrame(document_df, columns = [\"sentences\"])\n",
    "        res = data[\"sentences\"]\n",
    "    return res"
   ]
  },
  {
   "cell_type": "code",
   "execution_count": 204,
   "id": "3f4d6a46-dab4-4136-8630-c2e57786157d",
   "metadata": {},
   "outputs": [],
   "source": [
    "#doc_to_df(doc1)"
   ]
  },
  {
   "cell_type": "code",
   "execution_count": 232,
   "id": "53337ad8-d25f-4b2a-aae2-026686afb8d1",
   "metadata": {},
   "outputs": [],
   "source": [
    "\n",
    "\n",
    "count_vectorizer = CountVectorizer()\n",
    "def vectorize(doc):\n",
    "    vector_matrix = count_vectorizer.fit_transform(doc_to_df(doc))\n",
    "    vector_matrix.toarray()\n",
    "    tokens = count_vectorizer.get_feature_names()\n",
    "    return vector_matrix ,tokens\n",
    "\n",
    "def vectorize_transform(doc):\n",
    "    vector_matrix = count_vectorizer.transform(doc_to_df(doc))\n",
    "    vector_matrix.toarray()\n",
    "    tokens = count_vectorizer.get_feature_names()\n",
    "    return vector_matrix ,tokens\n"
   ]
  },
  {
   "cell_type": "code",
   "execution_count": 239,
   "id": "2dcac10f-6347-4f77-91eb-a22737daaa96",
   "metadata": {},
   "outputs": [],
   "source": [
    "vector_matrix_1, tokens_1 = vectorize(doc1)\n",
    "vector_matrix_2, tokens_2 = vectorize_transform(doc2)\n",
    "cosine_similarity_matrix = cosine_similarity(vector_matrix_1,vector_matrix_2)\n",
    "\n",
    "\n"
   ]
  },
  {
   "cell_type": "code",
   "execution_count": 235,
   "id": "6f7a968a-eedc-4b03-8211-7ac35200fe2c",
   "metadata": {},
   "outputs": [
    {
     "data": {
      "text/plain": [
       "(25, 18)"
      ]
     },
     "execution_count": 235,
     "metadata": {},
     "output_type": "execute_result"
    }
   ],
   "source": [
    "cosine_similarity_matrix.shape"
   ]
  }
 ],
 "metadata": {
  "kernelspec": {
   "display_name": "Python 3 (ipykernel)",
   "language": "python",
   "name": "python3"
  },
  "language_info": {
   "codemirror_mode": {
    "name": "ipython",
    "version": 3
   },
   "file_extension": ".py",
   "mimetype": "text/x-python",
   "name": "python",
   "nbconvert_exporter": "python",
   "pygments_lexer": "ipython3",
   "version": "3.9.7"
  }
 },
 "nbformat": 4,
 "nbformat_minor": 5
}
